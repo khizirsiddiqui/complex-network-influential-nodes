{
 "cells": [
  {
   "cell_type": "code",
   "execution_count": 83,
   "metadata": {
    "ExecuteTime": {
     "end_time": "2020-07-04T08:28:31.391919Z",
     "start_time": "2020-07-04T08:28:31.184208Z"
    }
   },
   "outputs": [],
   "source": [
    "import pandas as pd\n",
    "import networkx as nx\n",
    "import numpy as np\n",
    "import matplotlib.pyplot as plt\n",
    "import copy\n",
    "from tqdm import tqdm\n",
    "from scipy.stats import pearsonr"
   ]
  },
  {
   "cell_type": "markdown",
   "metadata": {},
   "source": [
    "# Finding influential nodes in social networks based on neighbor hood correlation coefficient\n",
    "Ahmad Zareiea, Amir Sheikhahmadi, Mahdi Jalilic, Mohammad Sajjad Khaksar Fasaei\n",
    "\n",
    "Link : https://www.sciencedirect.com/science/article/pii/S0950705120300630?via%3Dihub"
   ]
  },
  {
   "cell_type": "code",
   "execution_count": 47,
   "metadata": {
    "ExecuteTime": {
     "end_time": "2020-07-04T07:57:52.075047Z",
     "start_time": "2020-07-04T07:57:52.067404Z"
    }
   },
   "outputs": [],
   "source": [
    "def neighbors(G, idx):\n",
    "    return list(dict(G.adjacency())[str(int(idx))])\n",
    "\n",
    "def len_second_neighbors(idx, neighbor_list=None):\n",
    "    if neighbor_list is None:\n",
    "        neighbor_list = neighbors(idx)\n",
    "    l = []\n",
    "    for t in neighbor_list:\n",
    "        l += neighbors(t)\n",
    "    if str(idx) in l:\n",
    "        return len(l) - 1\n",
    "    else:\n",
    "        return len(l)"
   ]
  },
  {
   "cell_type": "code",
   "execution_count": 117,
   "metadata": {
    "ExecuteTime": {
     "end_time": "2020-07-04T09:35:10.087993Z",
     "start_time": "2020-07-04T09:35:09.957894Z"
    }
   },
   "outputs": [
    {
     "data": {
      "image/png": "[encoded data removed]",
      "text/plain": [
       "<Figure size 432x288 with 1 Axes>"
      ]
     },
     "metadata": {},
     "output_type": "display_data"
    }
   ],
   "source": [
    "# Figure 1 in Referred Paper\n",
    "G = nx.Graph()\n",
    "G.add_edge('1', '2')\n",
    "G.add_edge('1', '3')\n",
    "G.add_edge('1', '4')\n",
    "G.add_edge('1', '5')\n",
    "G.add_edge('1', '6')\n",
    "G.add_edge('2', '3')\n",
    "G.add_edge('2', '4')\n",
    "G.add_edge('3', '4')\n",
    "G.add_edge('5', '6')\n",
    "G.add_edge('5', '7')\n",
    "G.add_edge('6', '7')\n",
    "G.add_edge('8', '7')\n",
    "G.add_edge('9', '7')\n",
    "G.add_edge('8', '9')\n",
    "G.add_edge('8', '16')\n",
    "G.add_edge('9', '10')\n",
    "G.add_edge('9', '11')\n",
    "G.add_edge('10', '12')\n",
    "G.add_edge('10', '14')\n",
    "G.add_edge('11', '15')\n",
    "G.add_edge('12', '13')\n",
    "G.add_edge('12', '16')\n",
    "G.add_edge('16', '17')\n",
    "nx.draw(G, with_labels=True)\n",
    "plt.show()"
   ]
  },
  {
   "cell_type": "code",
   "execution_count": 118,
   "metadata": {
    "ExecuteTime": {
     "end_time": "2020-07-04T09:35:10.285024Z",
     "start_time": "2020-07-04T09:35:10.268282Z"
    }
   },
   "outputs": [
    {
     "name": "stdout",
     "output_type": "stream",
     "text": [
      "['14', '15', '13', '17']\n",
      "['11']\n",
      "['16', '10', '12']\n",
      "['8', '9']\n",
      "['7']\n",
      "['6', '5']\n",
      "['1', '2', '3', '4']\n"
     ]
    }
   ],
   "source": [
    "def assign_it(G):\n",
    "    subG = copy.deepcopy(G)\n",
    "    degree = subG.degree()\n",
    "    it_val = []\n",
    "    k_it = 1\n",
    "    it = 1\n",
    "    while True:\n",
    "        kshell = nx.algorithms.core.k_shell(G, k_it)\n",
    "#         print(\"k-Shell\", k_it, \"Iteration\", it, \"Nodes\", len(kshell.nodes()))\n",
    "        while len(kshell):\n",
    "            it_deg = min(kshell.degree())[1]\n",
    "#             print(it_deg)\n",
    "            it_deg_nodes = [n[0] for n in degree if (n[1] == it_deg and kshell.has_node(n[0]))]\n",
    "#             if len(it_deg_nodes) == 0:\n",
    "#                 break\n",
    "            subG.remove_nodes_from(it_deg_nodes)\n",
    "            kshell.remove_nodes_from(it_deg_nodes)\n",
    "#             print(\"IT:\", (it, it_deg_nodes))\n",
    "            if len(it_deg_nodes):\n",
    "                it_val.append((it, it_deg_nodes))\n",
    "                it = it + 1\n",
    "            \n",
    "            if it_deg == 1:\n",
    "                it_deg_nodes = list(kshell.nodes())\n",
    "                it_val.append((it, it_deg_nodes))\n",
    "#                 print(\"IT:\", (it, it_deg_nodes))\n",
    "                it = it + 1\n",
    "                subG.remove_nodes_from(it_deg_nodes)\n",
    "                break\n",
    "\n",
    "        if len(kshell) == 0:\n",
    "            break\n",
    "        k_it += 1\n",
    "#     print('\\nIT Vectors Obtained')\n",
    "    return it_val\n",
    "\n",
    "x = assign_it(G)\n",
    "for it in x:\n",
    "    print(it[1])\n",
    "\n",
    "# Cross Check from Fig1 Referred Paper\n",
    "# 14, 15, 13, 17\n",
    "# 11\n",
    "# 10, 12, 16\n",
    "# 9, 8\n",
    "# 7\n",
    "# 6, 5\n",
    "# 1, 2, 3, 4"
   ]
  },
  {
   "cell_type": "code",
   "execution_count": 119,
   "metadata": {
    "ExecuteTime": {
     "end_time": "2020-07-04T09:35:11.434586Z",
     "start_time": "2020-07-04T09:35:11.404935Z"
    }
   },
   "outputs": [
    {
     "name": "stderr",
     "output_type": "stream",
     "text": [
      "17it [00:00, 7216.19it/s]"
     ]
    },
    {
     "name": "stdout",
     "output_type": "stream",
     "text": [
      "[[0. 0. 0. 0. 0. 2. 3.]\n",
      " [0. 0. 0. 0. 0. 0. 3.]\n",
      " [0. 0. 0. 0. 0. 0. 3.]\n",
      " [0. 0. 0. 0. 0. 0. 3.]\n",
      " [0. 0. 0. 0. 1. 1. 1.]\n",
      " [0. 0. 0. 0. 1. 1. 1.]\n",
      " [0. 0. 0. 2. 0. 2. 0.]\n",
      " [0. 0. 1. 1. 1. 0. 0.]\n",
      " [0. 1. 1. 1. 1. 0. 0.]\n",
      " [1. 0. 1. 1. 0. 0. 0.]\n",
      " [1. 0. 1. 1. 0. 0. 0.]\n",
      " [1. 0. 0. 1. 0. 0. 0.]\n",
      " [1. 0. 2. 0. 0. 0. 0.]\n",
      " [0. 0. 1. 0. 0. 0. 0.]\n",
      " [0. 1. 0. 0. 0. 0. 0.]\n",
      " [0. 0. 1. 0. 0. 0. 0.]\n",
      " [0. 0. 1. 0. 0. 0. 0.]]\n",
      "0.75\n"
     ]
    },
    {
     "name": "stderr",
     "output_type": "stream",
     "text": [
      "\n"
     ]
    }
   ],
   "source": [
    "# ShellVectors\n",
    "def get_SV(G, it_vec):\n",
    "    max_iters = len(it_vec) # f\n",
    "    sv_array = np.zeros((len(G), max_iters))\n",
    "    for i, v_i in tqdm(enumerate(G.nodes())):\n",
    "        neigbors_in_G = neighbors(G, v_i)\n",
    "        for k in range(len(it_vec)):\n",
    "            for nb in it_vec[k][1]:\n",
    "                sv_array[i, k] += (nb in neigbors_in_G)\n",
    "    return sv_array\n",
    "\n",
    "def get_corr(sv, i, j):\n",
    "    return pearsonr(sv[int(i) - 1], sv[int(j) - 1])[0]\n",
    "\n",
    "sv = get_SV(G, x)\n",
    "print(sv)\n",
    "print(get_corr(sv, 8, 9))\n",
    "# SV7 = {0, 0, 0, 2, 0, 2, 0}\n",
    "# SV8 = {0, 0, 1, 1, 1, 0, 0}\n",
    "# SV9 = {0, 1, 1, 1, 1, 0, 0}"
   ]
  },
  {
   "cell_type": "code",
   "execution_count": 120,
   "metadata": {
    "ExecuteTime": {
     "end_time": "2020-07-04T09:35:11.567799Z",
     "start_time": "2020-07-04T09:35:11.548847Z"
    }
   },
   "outputs": [
    {
     "name": "stderr",
     "output_type": "stream",
     "text": [
      "17it [00:00, 10698.15it/s]\n",
      "100%|██████████| 17/17 [00:00<00:00, 4920.85it/s]\n",
      "17it [00:00, 22571.44it/s]\n",
      "17it [00:00, 38293.86it/s]\n"
     ]
    }
   ],
   "source": [
    "def ECMR(G):\n",
    "    it_vec = assign_it(G)\n",
    "    sv = get_SV(G, it_vec)\n",
    "    SCC_array = []\n",
    "    degree = G.degree()\n",
    "    max_d = max(degree)[1]\n",
    "    for v_i in tqdm(G.nodes()):\n",
    "        SCC = 0\n",
    "        N_i = neighbors(G, v_i)\n",
    "        for v_j in N_i:\n",
    "            CC = get_corr(sv, v_i, v_j)\n",
    "            SCC = SCC + (2 - CC) + (1 + 2 * len(N_i) / max_d)\n",
    "        SCC_array.append(SCC)\n",
    "\n",
    "    CRM_array = []\n",
    "    for i, v_i in tqdm(enumerate(G.nodes())):\n",
    "        CRM = 0\n",
    "        N_i = neighbors(G, v_i)\n",
    "        for j, v_j in enumerate(N_i):\n",
    "            CRM += SCC_array[j]\n",
    "        CRM_array.append(CRM)\n",
    "    \n",
    "    ECRM_array = []\n",
    "    for i, v_i in tqdm(enumerate(G.nodes())):\n",
    "        ECRM = 0\n",
    "        N_i = neighbors(G, v_i)\n",
    "        for j, v_j in enumerate(N_i):\n",
    "            ECRM += CRM_array[j]\n",
    "        ECRM_array.append(ECRM)\n",
    "    return np.argsort(-1 * np.array(ECRM_array)) + 1 # +1 coz Graph nodes start at 1\n",
    "t = ECMR(G)"
   ]
  },
  {
   "cell_type": "code",
   "execution_count": 121,
   "metadata": {
    "ExecuteTime": {
     "end_time": "2020-07-04T09:35:11.667707Z",
     "start_time": "2020-07-04T09:35:11.662033Z"
    }
   },
   "outputs": [
    {
     "data": {
      "text/plain": [
       "array([ 1,  7,  9,  4,  5,  6,  2,  8, 10, 11, 13,  3, 12, 16, 14, 15, 17])"
      ]
     },
     "execution_count": 121,
     "metadata": {},
     "output_type": "execute_result"
    }
   ],
   "source": [
    "t"
   ]
  },
  {
   "cell_type": "code",
   "execution_count": null,
   "metadata": {},
   "outputs": [],
   "source": []
  }
 ],
 "metadata": {
  "kernelspec": {
   "display_name": "Python 3",
   "language": "python",
   "name": "python3"
  },
  "language_info": {
   "codemirror_mode": {
    "name": "ipython",
    "version": 3
   },
   "file_extension": ".py",
   "mimetype": "text/x-python",
   "name": "python",
   "nbconvert_exporter": "python",
   "pygments_lexer": "ipython3",
   "version": "3.7.5"
  }
 },
 "nbformat": 4,
 "nbformat_minor": 2
}
