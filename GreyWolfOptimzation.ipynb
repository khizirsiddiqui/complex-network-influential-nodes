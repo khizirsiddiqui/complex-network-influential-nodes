{
 "cells": [
  {
   "cell_type": "code",
   "execution_count": 234,
   "metadata": {
    "ExecuteTime": {
     "end_time": "2020-07-02T07:28:58.260931Z",
     "start_time": "2020-07-02T07:28:58.257551Z"
    }
   },
   "outputs": [],
   "source": [
    "import pandas as pd\n",
    "import networkx as nx\n",
    "import numpy as np\n",
    "import matplotlib.pyplot as plt"
   ]
  },
  {
   "cell_type": "markdown",
   "metadata": {},
   "source": [
    "# Identification of influential users in social network using gray wolf optimization algorithm\n",
    "\n",
    "### Ahmad Zareiec, Amir Sheikhahmadia, Mahdi Jalilib\n",
    "\n",
    "https://www.sciencedirect.com/science/article/pii/S095741741930689X?via%3Dihub"
   ]
  },
  {
   "cell_type": "markdown",
   "metadata": {},
   "source": [
    "## Hamsterster Dataset\n",
    "\n",
    "Link: https://relational.fit.cvut.cz/dataset/CORA\n",
    "\n",
    "This Network contains friendships and familylinks between users of the website hamsterster.com.\n",
    "\n",
    " -  Format Undirected: Undirected\n",
    " -  Edge weights\t   Unweighted\n",
    " -          Size\t   2,426 vertices (users)\n",
    " -        Volume   \t   16,631 edges (friendships) "
   ]
  },
  {
   "cell_type": "code",
   "execution_count": 14,
   "metadata": {
    "ExecuteTime": {
     "end_time": "2020-07-02T05:38:13.301980Z",
     "start_time": "2020-07-02T05:38:13.282076Z"
    }
   },
   "outputs": [
    {
     "data": {
      "text/html": [
       "<div>\n",
       "<style scoped>\n",
       "    .dataframe tbody tr th:only-of-type {\n",
       "        vertical-align: middle;\n",
       "    }\n",
       "\n",
       "    .dataframe tbody tr th {\n",
       "        vertical-align: top;\n",
       "    }\n",
       "\n",
       "    .dataframe thead th {\n",
       "        text-align: right;\n",
       "    }\n",
       "</style>\n",
       "<table border=\"1\" class=\"dataframe\">\n",
       "  <thead>\n",
       "    <tr style=\"text-align: right;\">\n",
       "      <th></th>\n",
       "      <th>Source</th>\n",
       "      <th>Target</th>\n",
       "    </tr>\n",
       "  </thead>\n",
       "  <tbody>\n",
       "    <tr>\n",
       "      <th>0</th>\n",
       "      <td>99</td>\n",
       "      <td>98</td>\n",
       "    </tr>\n",
       "    <tr>\n",
       "      <th>1</th>\n",
       "      <td>999</td>\n",
       "      <td>550</td>\n",
       "    </tr>\n",
       "    <tr>\n",
       "      <th>2</th>\n",
       "      <td>999</td>\n",
       "      <td>549</td>\n",
       "    </tr>\n",
       "    <tr>\n",
       "      <th>3</th>\n",
       "      <td>999</td>\n",
       "      <td>42</td>\n",
       "    </tr>\n",
       "    <tr>\n",
       "      <th>4</th>\n",
       "      <td>999</td>\n",
       "      <td>25</td>\n",
       "    </tr>\n",
       "  </tbody>\n",
       "</table>\n",
       "</div>"
      ],
      "text/plain": [
       "   Source  Target\n",
       "0      99      98\n",
       "1     999     550\n",
       "2     999     549\n",
       "3     999      42\n",
       "4     999      25"
      ]
     },
     "execution_count": 14,
     "metadata": {},
     "output_type": "execute_result"
    }
   ],
   "source": [
    "edgelist = pd.read_csv(\"./dataset/hamster-full/out.petster-hamster\", sep=\" \")\n",
    "edgelist.drop(['unweighted'], axis=1, inplace=True)\n",
    "edgelist.rename(columns={'%': 'Source', 'sym': 'Target'}, inplace=True)\n",
    "edgelist.head()"
   ]
  },
  {
   "cell_type": "code",
   "execution_count": 15,
   "metadata": {
    "ExecuteTime": {
     "end_time": "2020-07-02T05:38:13.414135Z",
     "start_time": "2020-07-02T05:38:13.409667Z"
    }
   },
   "outputs": [
    {
     "name": "stdout",
     "output_type": "stream",
     "text": [
      "<class 'pandas.core.frame.DataFrame'>\n",
      "RangeIndex: 16631 entries, 0 to 16630\n",
      "Data columns (total 2 columns):\n",
      "Source    16631 non-null int64\n",
      "Target    16631 non-null int64\n",
      "dtypes: int64(2)\n",
      "memory usage: 260.0 KB\n"
     ]
    }
   ],
   "source": [
    "edgelist.info()"
   ]
  },
  {
   "cell_type": "code",
   "execution_count": 16,
   "metadata": {
    "ExecuteTime": {
     "end_time": "2020-07-02T05:38:14.952466Z",
     "start_time": "2020-07-02T05:38:14.947879Z"
    }
   },
   "outputs": [],
   "source": [
    "p = 0.03 # Activation Probability used in independent cascade model\n",
    "k = 5    # Seed Size\n",
    "max_t = 1000  # Max Iterations"
   ]
  },
  {
   "cell_type": "code",
   "execution_count": 17,
   "metadata": {
    "ExecuteTime": {
     "end_time": "2020-07-02T05:38:15.396664Z",
     "start_time": "2020-07-02T05:38:15.344723Z"
    }
   },
   "outputs": [],
   "source": [
    "hamsterster = nx.read_edgelist(\"./dataset/hamster-full/out.petster-hamster\", comments = '%')"
   ]
  },
  {
   "cell_type": "code",
   "execution_count": 18,
   "metadata": {
    "ExecuteTime": {
     "end_time": "2020-07-02T05:38:18.245107Z",
     "start_time": "2020-07-02T05:38:18.238385Z"
    }
   },
   "outputs": [
    {
     "data": {
      "text/plain": [
       "(2426, 16631)"
      ]
     },
     "execution_count": 18,
     "metadata": {},
     "output_type": "execute_result"
    }
   ],
   "source": [
    "num_nodes = hamsterster.number_of_nodes()\n",
    "num_edges = hamsterster.number_of_edges()\n",
    "num_nodes, num_edges"
   ]
  },
  {
   "cell_type": "code",
   "execution_count": 19,
   "metadata": {
    "ExecuteTime": {
     "end_time": "2020-07-02T05:38:21.130779Z",
     "start_time": "2020-07-02T05:38:21.126716Z"
    }
   },
   "outputs": [],
   "source": [
    "def neighbors(idx):\n",
    "    return list(dict(hamsterster.adjacency())[str(int(idx))])\n",
    "\n",
    "def len_second_neighbors(idx, neighbor_list=None):\n",
    "    if neighbor_list is None:\n",
    "        neighbor_list = neighbors(idx)\n",
    "    l = []\n",
    "    for t in neighbor_list:\n",
    "        l += neighbors(t)\n",
    "    if str(idx) in l:\n",
    "        return len(l) - 1\n",
    "    else:\n",
    "        return len(l)"
   ]
  },
  {
   "cell_type": "markdown",
   "metadata": {},
   "source": [
    "## Fitness"
   ]
  },
  {
   "cell_type": "code",
   "execution_count": 213,
   "metadata": {
    "ExecuteTime": {
     "end_time": "2020-07-02T07:14:10.088532Z",
     "start_time": "2020-07-02T07:14:10.077968Z"
    }
   },
   "outputs": [],
   "source": [
    "# Equation 13\n",
    "def get_seed_set(vec, sol_size):\n",
    "    try:\n",
    "        return np.argsort(vec[0, :])[- sol_size - 1:-1] + 1\n",
    "    except IndexError:\n",
    "        return np.argsort(vec)[-sol_size-1:-1] + 1\n",
    "\n",
    "def fitness(position_vec, sol_size):\n",
    "    wcj = []\n",
    "    if position_vec.shape[0] != 1:\n",
    "        position_vec = np.reshape(position_vec, newshape=(1, -1))\n",
    "    seed_set = get_seed_set(position_vec, sol_size)\n",
    "    for seed in seed_set:\n",
    "        nb_list = neighbors(seed)\n",
    "        dj = len(nb_list)\n",
    "        Ivj = p * dj * (dj + len_second_neighbors(seed, nb_list) * p)\n",
    "        wcj.append(Ivj)\n",
    "\n",
    "    return -1* np.sum(wcj * np.log(wcj/np.sum(wcj))) / np.sum(wcj) # Entropy"
   ]
  },
  {
   "cell_type": "markdown",
   "metadata": {},
   "source": [
    "## Wolves"
   ]
  },
  {
   "cell_type": "code",
   "execution_count": 217,
   "metadata": {
    "ExecuteTime": {
     "end_time": "2020-07-02T07:19:01.924184Z",
     "start_time": "2020-07-02T07:19:01.917957Z"
    }
   },
   "outputs": [],
   "source": [
    "# Algorithm 3\n",
    "def init_wolf(graph):\n",
    "    X = np.random.random((1, len(graph))) * list(dict(graph.degree()).values())\n",
    "#     X /= np.sum(X, axis=1)[:, None]\n",
    "    return X\n",
    "\n",
    "def init_omega_wolves(num, graph):\n",
    "    X = np.random.random((num, len(graph))) * list(dict(graph.degree()).values())\n",
    "#     X /= np.sum(X, axis=1)[:, None]\n",
    "    return X"
   ]
  },
  {
   "cell_type": "code",
   "execution_count": 239,
   "metadata": {
    "ExecuteTime": {
     "end_time": "2020-07-02T07:42:25.723330Z",
     "start_time": "2020-07-02T07:42:25.717971Z"
    }
   },
   "outputs": [],
   "source": [
    "# Equation 7, 8, 9\n",
    "def update_random_constant_vectors(r1, r2, t):    \n",
    "    a = 2. - 2. * t / max_t\n",
    "    A = 2 * r1 * a - a\n",
    "    C = 2 * r2\n",
    "    return a, A, C"
   ]
  },
  {
   "cell_type": "code",
   "execution_count": 219,
   "metadata": {
    "ExecuteTime": {
     "end_time": "2020-07-02T07:19:02.241917Z",
     "start_time": "2020-07-02T07:19:02.233495Z"
    }
   },
   "outputs": [],
   "source": [
    "# Algorithm 4\n",
    "def update_omega_wolf(A, C, V, Xi, alpha, beta, delta):\n",
    "    Y1 = alpha - A[0, :] * np.abs(C[0, :] * alpha - Xi)\n",
    "    Y2 = alpha - A[1, :] * np.abs(C[1, :] * delta - Xi)\n",
    "    Y3 = alpha - A[2, :] * np.abs(C[2, :] * alpha - Xi)\n",
    "    Xnew = (Y1 + Y2 + Y3)/3\n",
    "    return Xnew\n",
    "    \n",
    "def update_position_vector(A, C, V, alpha, beta, delta, omega_wolves):\n",
    "    for i in range(omega_wolves.shape[0]):\n",
    "        omega_wolves[i, :] = update_omega_wolf(A, C, V, omega_wolves[i, :], alpha, beta, delta)\n",
    "    return omega_wolves"
   ]
  },
  {
   "cell_type": "code",
   "execution_count": 229,
   "metadata": {
    "ExecuteTime": {
     "end_time": "2020-07-02T07:27:12.451629Z",
     "start_time": "2020-07-02T07:27:12.439728Z"
    }
   },
   "outputs": [],
   "source": [
    "def init_primary_pack(V, sol_size):\n",
    "    alpha = init_wolf(V)\n",
    "    beta = init_wolf(V)\n",
    "    delta = init_wolf(V)\n",
    "    \n",
    "    alpha_score = fitness(alpha, sol_size)\n",
    "    beta_score = fitness(beta, sol_size)\n",
    "    delta_score = fitness(delta, sol_size)\n",
    "    if delta_score > alpha_score:\n",
    "        delta, alpha = alpha, delta\n",
    "    if delta_score > beta_score:\n",
    "        delta, beta = beta, delta\n",
    "    if beta_score > alpha_score:\n",
    "        beta, alpha = alpha, beta\n",
    "    return alpha, beta, delta\n",
    "\n",
    "def update_pack(alpha, beta, delta, omega_wolves, sol_size):\n",
    "    alpha_score = fitness(alpha, sol_size)\n",
    "    beta_score = fitness(beta, sol_size)\n",
    "    delta_score = fitness(delta, sol_size)\n",
    "    for i in range(omega_wolves.shape[0]):\n",
    "        omega_score = fitness(omega_wolves[i:i+1], sol_size)\n",
    "        if omega_score > alpha_score:\n",
    "            temp = delta\n",
    "            delta = beta\n",
    "            beta = alpha\n",
    "            alpha = omega_wolves[i, :]\n",
    "            omega_wolves[i, :] = temp\n",
    "            del temp\n",
    "        elif omega_score > beta_score:\n",
    "            temp = delta\n",
    "            delta = beta\n",
    "            beta = omega_wolves[i, :]\n",
    "            omega_wolves[i, :] = temp\n",
    "            del temp\n",
    "        elif omega_score > delta_score:\n",
    "            delta, omega_wolves[i, :] = omega_wolves[i, :], delta\n",
    "    \n",
    "    return alpha, beta, delta, omega_wolves"
   ]
  },
  {
   "cell_type": "markdown",
   "metadata": {},
   "source": [
    "## Algorithm"
   ]
  },
  {
   "cell_type": "code",
   "execution_count": 240,
   "metadata": {
    "ExecuteTime": {
     "end_time": "2020-07-02T08:08:22.187841Z",
     "start_time": "2020-07-02T07:42:39.187684Z"
    }
   },
   "outputs": [
    {
     "name": "stdout",
     "output_type": "stream",
     "text": [
      "Subgrah Selected with 2122 nodes\n",
      "Initialized 50 wolves\n",
      "Iteration 0/200\tFitness: [2.8597876912416704, 3.0565775296399447, 2.827557050307086]\n",
      "Iteration 1/200\tFitness: [3.1266452429175438, 2.8975945651664916, 3.039790339735917]\n",
      "Iteration 2/200\tFitness: [3.0532982115720646, 3.0532982115720646, 3.092976765044343]\n",
      "Iteration 3/200\tFitness: [2.878794556734153, 2.878794556734153, 3.0150207611354065]\n",
      "Iteration 4/200\tFitness: [2.850991803533021, 2.7673296165346253, 2.7673296165346253]\n",
      "Iteration 5/200\tFitness: [2.7756229918156157, 2.838902014232656, 2.7638504881086927]\n",
      "Iteration 6/200\tFitness: [2.624546941413577, 2.81021857769515, 2.604514902383917]\n",
      "Iteration 7/200\tFitness: [2.5974465578438406, 2.6519909492842384, 2.672692915226701]\n",
      "Iteration 8/200\tFitness: [2.5827884873726745, 2.582788487372675, 2.572270372438747]\n",
      "Iteration 9/200\tFitness: [2.5887718679000886, 2.5248929039677854, 2.615294759170243]\n",
      "Iteration 10/200\tFitness: [2.5177875206467135, 2.517787520646714, 2.5788821784952227]\n",
      "Iteration 11/200\tFitness: [2.5315577927115065, 2.4508730518990722, 2.518265147630405]\n",
      "Iteration 12/200\tFitness: [2.507567388147256, 2.507567388147256, 2.451259078779974]\n",
      "Iteration 13/200\tFitness: [2.520055831794668, 2.520055831794668, 2.5630319423092858]\n",
      "Iteration 14/200\tFitness: [2.491607357525631, 2.491607357525631, 2.491607357525631]\n",
      "Iteration 15/200\tFitness: [2.499164559300894, 2.499164559300894, 2.5593811548892402]\n",
      "Iteration 16/200\tFitness: [2.5212981634241642, 2.571360752292386, 2.5212981634241642]\n",
      "Iteration 17/200\tFitness: [2.5212981634241647, 2.5212981634241642, 2.5082370006466017]\n",
      "Iteration 18/200\tFitness: [2.5082370006466017, 2.5212981634241647, 2.5212981634241647]\n",
      "Iteration 19/200\tFitness: [2.5082370006466013, 2.5082370006466013, 2.5212981634241647]\n",
      "Iteration 20/200\tFitness: [2.5082370006466013, 2.5212981634241647, 2.5082370006466013]\n",
      "Iteration 21/200\tFitness: [2.4445870616763865, 2.5063939743811248, 2.444587061676386]\n",
      "Iteration 22/200\tFitness: [2.4445870616763865, 2.4445870616763865, 2.4458018612807506]\n",
      "Iteration 23/200\tFitness: [2.443886086672317, 2.443886086672317, 2.444587061676387]\n",
      "Iteration 24/200\tFitness: [2.443886086672317, 2.443886086672317, 2.5136922831041977]\n",
      "Iteration 25/200\tFitness: [2.4549596647954357, 2.4440000620543043, 2.4440000620543043]\n",
      "Iteration 26/200\tFitness: [2.4549596647954357, 2.4549596647954357, 2.4549596647954357]\n",
      "Iteration 27/200\tFitness: [2.4549596647954357, 2.455072455745491, 2.455072455745491]\n",
      "Iteration 28/200\tFitness: [2.4549596647954357, 2.455072455745491, 2.490846588657543]\n",
      "Iteration 29/200\tFitness: [2.436477344485671, 2.4549596647954357, 2.4582038674627382]\n",
      "Iteration 30/200\tFitness: [2.4549596647954357, 2.4549596647954357, 2.4549596647954357]\n",
      "Iteration 31/200\tFitness: [2.4335605737112367, 2.4546632151953998, 2.4546632151953998]\n",
      "Iteration 32/200\tFitness: [2.4335605737112367, 2.4335605737112367, 2.4335605737112367]\n",
      "Iteration 33/200\tFitness: [2.47542699077529, 2.47542699077529, 2.47542699077529]\n",
      "Iteration 34/200\tFitness: [2.4754269907752904, 2.4754269907752904, 2.4754269907752904]\n",
      "Iteration 35/200\tFitness: [2.4754269907752904, 2.4754269907752904, 2.4754269907752904]\n",
      "Iteration 36/200\tFitness: [2.4754269907752904, 2.4754269907752904, 2.4754269907752904]\n",
      "Iteration 37/200\tFitness: [2.4754269907752904, 2.4754269907752904, 2.4754269907752904]\n",
      "Iteration 38/200\tFitness: [2.4225176389432086, 2.4225176389432086, 2.4225176389432086]\n",
      "Iteration 39/200\tFitness: [2.4225176389432086, 2.4225176389432086, 2.4225176389432086]\n",
      "Iteration 40/200\tFitness: [2.4195406792983327, 2.4195406792983327, 2.4195406792983327]\n",
      "Iteration 41/200\tFitness: [2.4826331621753903, 2.4826331621753903, 2.4826331621753903]\n",
      "Iteration 42/200\tFitness: [2.4826331621753908, 2.4826331621753908, 2.4826331621753908]\n",
      "Iteration 43/200\tFitness: [2.4826331621753908, 2.4826331621753908, 2.4826331621753908]\n",
      "Iteration 44/200\tFitness: [2.4826331621753903, 2.4826331621753903, 2.4826331621753903]\n",
      "Iteration 45/200\tFitness: [2.4826331621753903, 2.4826331621753903, 2.4826331621753903]\n",
      "Iteration 46/200\tFitness: [2.4826331621753903, 2.4826331621753903, 2.4826331621753903]\n",
      "Iteration 47/200\tFitness: [2.4826331621753908, 2.4826331621753908, 2.4826331621753908]\n",
      "Iteration 48/200\tFitness: [2.4826331621753903, 2.4826331621753903, 2.4826331621753903]\n",
      "Iteration 49/200\tFitness: [2.4826331621753908, 2.4826331621753908, 2.4826331621753908]\n",
      "Iteration 50/200\tFitness: [2.4826331621753903, 2.4826331621753903, 2.4826331621753903]\n",
      "Iteration 51/200\tFitness: [2.4826331621753908, 2.4826331621753908, 2.4826331621753908]\n",
      "Iteration 52/200\tFitness: [2.4826331621753908, 2.4826331621753908, 2.4826331621753908]\n",
      "Iteration 53/200\tFitness: [2.4826331621753908, 2.4826331621753908, 2.4826331621753908]\n",
      "Iteration 54/200\tFitness: [2.4826331621753903, 2.4826331621753903, 2.4826331621753903]\n",
      "Iteration 55/200\tFitness: [2.4826331621753903, 2.4826331621753903, 2.4826331621753903]\n",
      "Iteration 56/200\tFitness: [2.4826331621753903, 2.4826331621753903, 2.4826331621753903]\n",
      "Iteration 57/200\tFitness: [2.506740854553117, 2.506740854553117, 2.506740854553117]\n",
      "Iteration 58/200\tFitness: [2.5067408545531165, 2.5067408545531165, 2.5067408545531165]\n",
      "Iteration 59/200\tFitness: [2.545985361591576, 2.545985361591576, 2.545985361591576]\n",
      "Iteration 60/200\tFitness: [2.5459853615915766, 2.5459853615915766, 2.5459853615915766]\n",
      "Iteration 61/200\tFitness: [2.545985361591576, 2.545985361591576, 2.545985361591576]\n",
      "Iteration 62/200\tFitness: [2.5459853615915766, 2.5459853615915766, 2.5459853615915766]\n",
      "Iteration 63/200\tFitness: [2.5459853615915766, 2.5459853615915766, 2.5459853615915766]\n",
      "Iteration 64/200\tFitness: [2.5459853615915766, 2.5459853615915766, 2.5459853615915766]\n",
      "Iteration 65/200\tFitness: [2.5459853615915766, 2.5459853615915766, 2.5459853615915766]\n",
      "Iteration 66/200\tFitness: [2.5459853615915766, 2.5459853615915766, 2.5459853615915766]\n",
      "Iteration 67/200\tFitness: [2.5459853615915766, 2.5459853615915766, 2.5459853615915766]\n",
      "Iteration 68/200\tFitness: [2.5459853615915766, 2.5459853615915766, 2.5459853615915766]\n",
      "Iteration 69/200\tFitness: [2.5459853615915766, 2.5459853615915766, 2.5459853615915766]\n",
      "Iteration 70/200\tFitness: [2.545985361591576, 2.545985361591576, 2.545985361591576]\n",
      "Iteration 71/200\tFitness: [2.5459853615915766, 2.5459853615915766, 2.5459853615915766]\n",
      "Iteration 72/200\tFitness: [2.5459853615915766, 2.5459853615915766, 2.5459853615915766]\n",
      "Iteration 73/200\tFitness: [2.4949189738173767, 2.4949189738173767, 2.4949189738173767]\n",
      "Iteration 74/200\tFitness: [2.494918973817377, 2.494918973817377, 2.494918973817377]\n",
      "Iteration 75/200\tFitness: [2.507123760296707, 2.507123760296707, 2.507123760296707]\n",
      "Iteration 76/200\tFitness: [2.507123760296707, 2.507123760296707, 2.507123760296707]\n",
      "Iteration 77/200\tFitness: [2.507123760296707, 2.507123760296707, 2.507123760296707]\n",
      "Iteration 78/200\tFitness: [2.507123760296707, 2.507123760296707, 2.507123760296707]\n",
      "Iteration 79/200\tFitness: [2.507123760296707, 2.507123760296707, 2.507123760296707]\n",
      "Iteration 80/200\tFitness: [2.516520183374284, 2.516520183374284, 2.516520183374284]\n",
      "Iteration 81/200\tFitness: [2.516520183374284, 2.516520183374284, 2.516520183374284]\n",
      "Iteration 82/200\tFitness: [2.516520183374284, 2.516520183374284, 2.516520183374284]\n",
      "Iteration 83/200\tFitness: [2.516520183374284, 2.516520183374284, 2.516520183374284]\n",
      "Iteration 84/200\tFitness: [2.516520183374284, 2.516520183374284, 2.516520183374284]\n",
      "Iteration 85/200\tFitness: [2.516520183374284, 2.516520183374284, 2.516520183374284]\n",
      "Iteration 86/200\tFitness: [2.516520183374284, 2.516520183374284, 2.516520183374284]\n",
      "Iteration 87/200\tFitness: [2.516520183374284, 2.516520183374284, 2.516520183374284]\n",
      "Iteration 88/200\tFitness: [2.5165201833742845, 2.5165201833742845, 2.5165201833742845]\n",
      "Iteration 89/200\tFitness: [2.434753645422245, 2.434753645422245, 2.434753645422245]\n",
      "Iteration 90/200\tFitness: [2.4347536454222447, 2.4347536454222447, 2.4347536454222447]\n",
      "Iteration 91/200\tFitness: [2.4347536454222447, 2.4347536454222447, 2.4347536454222447]\n",
      "Iteration 92/200\tFitness: [2.4347536454222447, 2.4347536454222447, 2.4347536454222447]\n",
      "Iteration 93/200\tFitness: [2.4347536454222443, 2.4347536454222443, 2.4347536454222443]\n",
      "Iteration 94/200\tFitness: [2.4347536454222447, 2.4347536454222447, 2.4347536454222447]\n"
     ]
    },
    {
     "name": "stdout",
     "output_type": "stream",
     "text": [
      "Iteration 95/200\tFitness: [2.4347536454222447, 2.4347536454222447, 2.4347536454222447]\n",
      "Iteration 96/200\tFitness: [2.4347536454222447, 2.4347536454222447, 2.4347536454222447]\n",
      "Iteration 97/200\tFitness: [2.434753645422245, 2.434753645422245, 2.434753645422245]\n",
      "Iteration 98/200\tFitness: [2.434753645422245, 2.434753645422245, 2.434753645422245]\n",
      "Iteration 99/200\tFitness: [2.4298086470507325, 2.4298086470507325, 2.4298086470507325]\n",
      "Iteration 100/200\tFitness: [2.4298086470507325, 2.4298086470507325, 2.4298086470507325]\n",
      "Iteration 101/200\tFitness: [2.429808647050732, 2.429808647050732, 2.429808647050732]\n",
      "Iteration 102/200\tFitness: [2.429808647050732, 2.429808647050732, 2.429808647050732]\n",
      "Iteration 103/200\tFitness: [2.429808647050732, 2.429808647050732, 2.429808647050732]\n",
      "Iteration 104/200\tFitness: [2.429808647050732, 2.429808647050732, 2.429808647050732]\n",
      "Iteration 105/200\tFitness: [2.4298086470507325, 2.4298086470507325, 2.4298086470507325]\n",
      "Iteration 106/200\tFitness: [2.4298086470507325, 2.4298086470507325, 2.4298086470507325]\n",
      "Iteration 107/200\tFitness: [2.4298086470507325, 2.4298086470507325, 2.4298086470507325]\n",
      "Iteration 108/200\tFitness: [2.429808647050732, 2.429808647050732, 2.429808647050732]\n",
      "Iteration 109/200\tFitness: [2.429808647050732, 2.429808647050732, 2.429808647050732]\n",
      "Iteration 110/200\tFitness: [2.429808647050732, 2.429808647050732, 2.429808647050732]\n",
      "Iteration 111/200\tFitness: [2.429808647050732, 2.429808647050732, 2.429808647050732]\n",
      "Iteration 112/200\tFitness: [2.429808647050732, 2.429808647050732, 2.429808647050732]\n",
      "Iteration 113/200\tFitness: [2.429808647050732, 2.429808647050732, 2.429808647050732]\n",
      "Iteration 114/200\tFitness: [2.429808647050732, 2.429808647050732, 2.429808647050732]\n",
      "Iteration 115/200\tFitness: [2.429808647050732, 2.429808647050732, 2.429808647050732]\n",
      "Iteration 116/200\tFitness: [2.429808647050732, 2.429808647050732, 2.429808647050732]\n",
      "Iteration 117/200\tFitness: [2.429808647050732, 2.429808647050732, 2.429808647050732]\n",
      "Iteration 118/200\tFitness: [2.429808647050732, 2.429808647050732, 2.429808647050732]\n",
      "Iteration 119/200\tFitness: [2.429808647050732, 2.429808647050732, 2.429808647050732]\n",
      "Iteration 120/200\tFitness: [2.4931223024162685, 2.4931223024162685, 2.4931223024162685]\n",
      "Iteration 121/200\tFitness: [2.4931223024162685, 2.4931223024162685, 2.4931223024162685]\n",
      "Iteration 122/200\tFitness: [2.493122302416269, 2.493122302416269, 2.493122302416269]\n",
      "Iteration 123/200\tFitness: [2.4931223024162685, 2.4931223024162685, 2.4931223024162685]\n",
      "Iteration 124/200\tFitness: [2.50097916279182, 2.50097916279182, 2.50097916279182]\n",
      "Iteration 125/200\tFitness: [2.50097916279182, 2.50097916279182, 2.50097916279182]\n",
      "Iteration 126/200\tFitness: [2.50097916279182, 2.50097916279182, 2.50097916279182]\n",
      "Iteration 127/200\tFitness: [2.4979587575446796, 2.4979587575446796, 2.4979587575446796]\n",
      "Iteration 128/200\tFitness: [2.49795875754468, 2.49795875754468, 2.49795875754468]\n",
      "Iteration 129/200\tFitness: [2.49795875754468, 2.49795875754468, 2.49795875754468]\n",
      "Iteration 130/200\tFitness: [2.49795875754468, 2.49795875754468, 2.49795875754468]\n",
      "Iteration 131/200\tFitness: [2.4979587575446796, 2.4979587575446796, 2.4979587575446796]\n",
      "Iteration 132/200\tFitness: [2.4979587575446796, 2.4979587575446796, 2.4979587575446796]\n",
      "Iteration 133/200\tFitness: [2.4979587575446796, 2.4979587575446796, 2.4979587575446796]\n",
      "Iteration 134/200\tFitness: [2.4979587575446796, 2.4979587575446796, 2.4979587575446796]\n",
      "Iteration 135/200\tFitness: [2.49795875754468, 2.49795875754468, 2.49795875754468]\n",
      "Iteration 136/200\tFitness: [2.4979587575446796, 2.4979587575446796, 2.4979587575446796]\n",
      "Iteration 137/200\tFitness: [2.4979587575446796, 2.4979587575446796, 2.4979587575446796]\n",
      "Iteration 138/200\tFitness: [2.49795875754468, 2.49795875754468, 2.49795875754468]\n",
      "Iteration 139/200\tFitness: [2.4979587575446796, 2.4979587575446796, 2.4979587575446796]\n",
      "Iteration 140/200\tFitness: [2.4979587575446796, 2.4979587575446796, 2.4979587575446796]\n",
      "Iteration 141/200\tFitness: [2.4979587575446796, 2.4979587575446796, 2.4979587575446796]\n",
      "Iteration 142/200\tFitness: [2.521980705289611, 2.521980705289611, 2.521980705289611]\n",
      "Iteration 143/200\tFitness: [2.521980705289611, 2.521980705289611, 2.521980705289611]\n",
      "Iteration 144/200\tFitness: [2.521980705289611, 2.521980705289611, 2.521980705289611]\n",
      "Iteration 145/200\tFitness: [2.521980705289611, 2.521980705289611, 2.521980705289611]\n",
      "Iteration 146/200\tFitness: [2.521980705289611, 2.521980705289611, 2.521980705289611]\n",
      "Iteration 147/200\tFitness: [2.521980705289611, 2.521980705289611, 2.521980705289611]\n",
      "Iteration 148/200\tFitness: [2.5219807052896113, 2.5219807052896113, 2.5219807052896113]\n",
      "Iteration 149/200\tFitness: [2.5219807052896113, 2.5219807052896113, 2.5219807052896113]\n",
      "Iteration 150/200\tFitness: [2.5219807052896113, 2.5219807052896113, 2.5219807052896113]\n",
      "Iteration 151/200\tFitness: [2.5219807052896113, 2.5219807052896113, 2.5219807052896113]\n",
      "Iteration 152/200\tFitness: [2.5219807052896113, 2.5219807052896113, 2.5219807052896113]\n",
      "Iteration 153/200\tFitness: [2.5219807052896113, 2.5219807052896113, 2.5219807052896113]\n",
      "Iteration 154/200\tFitness: [2.5219807052896113, 2.5219807052896113, 2.5219807052896113]\n",
      "Iteration 155/200\tFitness: [2.5219807052896113, 2.5219807052896113, 2.5219807052896113]\n",
      "Iteration 156/200\tFitness: [2.5219807052896113, 2.5219807052896113, 2.5219807052896113]\n",
      "Iteration 157/200\tFitness: [2.5219807052896113, 2.5219807052896113, 2.5219807052896113]\n",
      "Iteration 158/200\tFitness: [2.521980705289611, 2.521980705289611, 2.521980705289611]\n",
      "Iteration 159/200\tFitness: [2.521980705289611, 2.521980705289611, 2.521980705289611]\n",
      "Iteration 160/200\tFitness: [2.521980705289611, 2.521980705289611, 2.521980705289611]\n",
      "Iteration 161/200\tFitness: [2.521980705289611, 2.521980705289611, 2.521980705289611]\n",
      "Iteration 162/200\tFitness: [2.521980705289611, 2.521980705289611, 2.521980705289611]\n",
      "Iteration 163/200\tFitness: [2.521980705289611, 2.521980705289611, 2.521980705289611]\n",
      "Iteration 164/200\tFitness: [2.521980705289611, 2.521980705289611, 2.521980705289611]\n",
      "Iteration 165/200\tFitness: [2.521980705289611, 2.521980705289611, 2.521980705289611]\n",
      "Iteration 166/200\tFitness: [2.6742972684449398, 2.6742972684449398, 2.6742972684449398]\n",
      "Iteration 167/200\tFitness: [2.6742972684449393, 2.6742972684449393, 2.6742972684449393]\n",
      "Iteration 168/200\tFitness: [2.671868525614002, 2.671868525614002, 2.671868525614002]\n",
      "Iteration 169/200\tFitness: [2.671868525614002, 2.671868525614002, 2.671868525614002]\n",
      "Iteration 170/200\tFitness: [2.671868525614002, 2.671868525614002, 2.671868525614002]\n",
      "Iteration 171/200\tFitness: [2.671868525614002, 2.671868525614002, 2.671868525614002]\n",
      "Iteration 172/200\tFitness: [2.6718685256140016, 2.6718685256140016, 2.6718685256140016]\n",
      "Iteration 173/200\tFitness: [2.6718685256140016, 2.6718685256140016, 2.6718685256140016]\n",
      "Iteration 174/200\tFitness: [2.6718685256140016, 2.6718685256140016, 2.6718685256140016]\n",
      "Iteration 175/200\tFitness: [2.6718685256140016, 2.6718685256140016, 2.6718685256140016]\n",
      "Iteration 176/200\tFitness: [2.6718685256140016, 2.6718685256140016, 2.6718685256140016]\n",
      "Iteration 177/200\tFitness: [2.6718685256140016, 2.6718685256140016, 2.6718685256140016]\n",
      "Iteration 178/200\tFitness: [2.6718685256140016, 2.6718685256140016, 2.6718685256140016]\n",
      "Iteration 179/200\tFitness: [2.6718685256140016, 2.6718685256140016, 2.6718685256140016]\n",
      "Iteration 180/200\tFitness: [2.6718685256140016, 2.6718685256140016, 2.6718685256140016]\n",
      "Iteration 181/200\tFitness: [2.6718685256140016, 2.6718685256140016, 2.6718685256140016]\n",
      "Iteration 182/200\tFitness: [2.6513158918614828, 2.6513158918614828, 2.6513158918614828]\n",
      "Iteration 183/200\tFitness: [2.6771616909711695, 2.6771616909711695, 2.6771616909711695]\n",
      "Iteration 184/200\tFitness: [2.6771616909711695, 2.6771616909711695, 2.6771616909711695]\n",
      "Iteration 185/200\tFitness: [2.6771616909711695, 2.6771616909711695, 2.6771616909711695]\n",
      "Iteration 186/200\tFitness: [2.6771616909711695, 2.6771616909711695, 2.6771616909711695]\n",
      "Iteration 187/200\tFitness: [2.6771616909711695, 2.6771616909711695, 2.6771616909711695]\n",
      "Iteration 188/200\tFitness: [2.6771616909711695, 2.6771616909711695, 2.6771616909711695]\n",
      "Iteration 189/200\tFitness: [2.6771616909711695, 2.6771616909711695, 2.6771616909711695]\n"
     ]
    },
    {
     "name": "stdout",
     "output_type": "stream",
     "text": [
      "Iteration 190/200\tFitness: [2.6771616909711695, 2.6771616909711695, 2.6771616909711695]\n",
      "Iteration 191/200\tFitness: [2.6771616909711695, 2.6771616909711695, 2.6771616909711695]\n",
      "Iteration 192/200\tFitness: [2.6771616909711695, 2.6771616909711695, 2.6771616909711695]\n",
      "Iteration 193/200\tFitness: [2.6771616909711695, 2.6771616909711695, 2.6771616909711695]\n",
      "Iteration 194/200\tFitness: [2.6771616909711695, 2.6771616909711695, 2.6771616909711695]\n",
      "Iteration 195/200\tFitness: [2.6771616909711695, 2.6771616909711695, 2.6771616909711695]\n",
      "Iteration 196/200\tFitness: [2.6771616909711695, 2.6771616909711695, 2.6771616909711695]\n",
      "Iteration 197/200\tFitness: [2.6771616909711695, 2.6771616909711695, 2.6771616909711695]\n",
      "Iteration 198/200\tFitness: [2.6771616909711695, 2.6771616909711695, 2.6771616909711695]\n",
      "Iteration 199/200\tFitness: [2.6771616909711695, 2.6771616909711695, 2.6771616909711695]\n",
      "Iteration 200/200\tFitness: [2.6771616909711695, 2.6771616909711695, 2.6771616909711695]\n"
     ]
    }
   ],
   "source": [
    "def GWO(pack_size, graph, sol_size=3, max_iters=100, loss_fn=fitness):\n",
    "    assert pack_size > 3, \"Pack Size should be at least 4\"\n",
    "    losses = []\n",
    "\n",
    "    # V' selection\n",
    "    degree = hamsterster.degree()\n",
    "    to_keep = [n[0] for n in degree if n[1] != 1]\n",
    "    V = hamsterster.subgraph(to_keep)\n",
    "    print(\"Subgrah Selected with\", len(V), \"nodes\")\n",
    "\n",
    "    alpha, beta, delta = init_primary_pack(V, sol_size)\n",
    "    omega_wolves = init_omega_wolves(pack_size - 3, V)\n",
    "    print(\"Initialized\", pack_size, \"wolves\")\n",
    "    print(\"Iteration {}/{}\".format(0, max_iters), end=\"\\t\")\n",
    "    alpha, beta, delta, omega_wolves = update_pack(alpha, beta, delta, omega_wolves, sol_size)\n",
    "    loss = [loss_fn(alpha, sol_size), loss_fn(beta, sol_size), loss_fn(delta, sol_size)]\n",
    "    losses.append(loss)\n",
    "    print(\"Fitness:\", loss)\n",
    "    \n",
    "    r1 = np.random.random((3, len(V)))\n",
    "    r2 = np.random.random((3, len(V)))\n",
    "    \n",
    "    for t in range(max_iters):\n",
    "        print(\"Iteration {}/{}\".format(t + 1, max_iters), end=\"\\t\")\n",
    "        a, A, C = update_random_constant_vectors(r1, r2, t)\n",
    "        \n",
    "        omega_wolves = update_position_vector(A, C, V, alpha, beta, delta, omega_wolves)\n",
    "        alpha, beta, delta, omega_wolves = update_pack(alpha, beta, delta, omega_wolves, sol_size)\n",
    "        \n",
    "        loss = [loss_fn(alpha, sol_size), loss_fn(beta, sol_size), loss_fn(delta, sol_size)]\n",
    "        losses.append(loss)\n",
    "        print(\"Fitness:\", loss)\n",
    "    \n",
    "    return [alpha, beta, delta, omega_wolves], np.array(losses)\n",
    "\n",
    "wolves, losses = GWO(50, hamsterster, 40, 200)"
   ]
  },
  {
   "cell_type": "code",
   "execution_count": 241,
   "metadata": {
    "ExecuteTime": {
     "end_time": "2020-07-02T08:08:22.376362Z",
     "start_time": "2020-07-02T08:08:22.189703Z"
    }
   },
   "outputs": [
    {
     "data": {
      "image/png": "[encoded data removed]",
      "text/plain": [
       "<Figure size 432x288 with 1 Axes>"
      ]
     },
     "metadata": {
      "needs_background": "light"
     },
     "output_type": "display_data"
    }
   ],
   "source": [
    "plt.plot(losses[:, 0])\n",
    "plt.plot(losses[:, 1])\n",
    "plt.plot(losses[:, 2])\n",
    "plt.show()"
   ]
  },
  {
   "cell_type": "code",
   "execution_count": null,
   "metadata": {},
   "outputs": [],
   "source": []
  }
 ],
 "metadata": {
  "kernelspec": {
   "display_name": "Python [conda env:mldl] *",
   "language": "python",
   "name": "conda-env-mldl-py"
  },
  "language_info": {
   "codemirror_mode": {
    "name": "ipython",
    "version": 3
   },
   "file_extension": ".py",
   "mimetype": "text/x-python",
   "name": "python",
   "nbconvert_exporter": "python",
   "pygments_lexer": "ipython3",
   "version": "3.7.5"
  }
 },
 "nbformat": 4,
 "nbformat_minor": 2
}
